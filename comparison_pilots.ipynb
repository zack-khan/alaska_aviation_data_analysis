{
 "cells": [
  {
   "cell_type": "code",
   "execution_count": 23,
   "metadata": {},
   "outputs": [
    {
     "name": "stderr",
     "output_type": "stream",
     "text": [
      "C:\\Users\\zkhan\\AppData\\Local\\Temp\\ipykernel_8556\\237228975.py:4: DtypeWarning: Columns (19,20,21,22,23,24,25,26,27,28,29,30,31,32,33,34,35,36,37,38,39,40,41,42,43,44,45,46,47,48,49,50,51,52,53,54,55,56,57,58,59,60,61,62,63,64,65,66,67,68,69,70,71,72,73,74,75,76,77,78,79,80,81,82,83,84,85,86,87,88,89,90,91,92,93,94,95,96,97,98,99,100,101,102,103,104,105,106,107,108,109,110,111,112,113,114,115) have mixed types. Specify dtype option on import or set low_memory=False.\n",
      "  data = pd.read_csv('./CS122023/PILOT_CERT.csv')\n"
     ]
    },
    {
     "name": "stdout",
     "output_type": "stream",
     "text": [
      "445016\n"
     ]
    }
   ],
   "source": [
    "import pandas as pd\n",
    "\n",
    "# Load the dataset\n",
    "data = pd.read_csv('./CS122023/PILOT_CERT.csv')\n",
    "\n",
    "# Filter the rows where 'TYPE' is either 'P' or 'F'\n",
    "# filtered_data = data[data[' TYPE'].isin(['P', 'F'])]\n",
    "# Maybe exclude F since is double counted w/ P\n",
    "filtered_data = data[data[' TYPE'].isin(['P'])]\n",
    "\n",
    "# Get unique IDs\n",
    "unique_ids = filtered_data['UNIQUE ID'].unique()\n",
    "\n",
    "# Print or process the unique IDs as needed\n",
    "print(len(unique_ids))\n"
   ]
  },
  {
   "cell_type": "code",
   "execution_count": 24,
   "metadata": {},
   "outputs": [
    {
     "name": "stdout",
     "output_type": "stream",
     "text": [
      "Number of pilots in Alaska: 6246\n",
      "Number of pilots in Continental USA: 416519\n",
      "Fraction of US pilots (excluding HI & other territories) that are Alaskan: 1.477416531642875%\n"
     ]
    }
   ],
   "source": [
    "import pandas as pd\n",
    "\n",
    "# Load the new dataset\n",
    "new_data = pd.read_csv('./CS122023/PILOT_BASIC.csv')\n",
    "\n",
    "# Filter the data\n",
    "alaskan_pilots = new_data[(new_data['UNIQUE ID'].isin(unique_ids)) & \n",
    "                         (new_data[' COUNTRY'] == 'USA') & \n",
    "                         (new_data[' STATE'] == 'AK')]\n",
    "\n",
    "continental_us_pilots = new_data[(new_data['UNIQUE ID'].isin(unique_ids)) & \n",
    "                         (new_data[' COUNTRY'] == 'USA') & \n",
    "                         (new_data[' STATE'] != 'AK') &\n",
    "                         (new_data[' STATE'] != 'HI')]\n",
    "\n",
    "# Count the number of rows\n",
    "alaskan_pilot_count = len(alaskan_pilots)\n",
    "us_pilot_count = len(continental_us_pilots)\n",
    "\n",
    "print(f\"Number of pilots in Alaska: {alaskan_pilot_count}\")\n",
    "print(f\"Number of pilots in Continental USA: {us_pilot_count}\")\n",
    "print(f\"Percent of US pilots (excluding HI & other territories) that are Alaskan: {(alaskan_pilot_count/(alaskan_pilot_count + us_pilot_count)) * 100}%\")"
   ]
  },
  {
   "cell_type": "code",
   "execution_count": null,
   "metadata": {},
   "outputs": [],
   "source": []
  }
 ],
 "metadata": {
  "kernelspec": {
   "display_name": "Python 3",
   "language": "python",
   "name": "python3"
  },
  "language_info": {
   "codemirror_mode": {
    "name": "ipython",
    "version": 3
   },
   "file_extension": ".py",
   "mimetype": "text/x-python",
   "name": "python",
   "nbconvert_exporter": "python",
   "pygments_lexer": "ipython3",
   "version": "3.10.7"
  }
 },
 "nbformat": 4,
 "nbformat_minor": 2
}
