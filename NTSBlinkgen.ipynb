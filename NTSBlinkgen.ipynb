{
 "cells": [
  {
   "cell_type": "code",
   "execution_count": 1,
   "metadata": {},
   "outputs": [
    {
     "data": {
      "text/plain": [
       "(True,\n",
       "     MKey  NTSBNumber                                             Report  \\\n",
       " 0  82591  WPR12CA073  https://data.ntsb.gov/carol-repgen/api/Aviatio...   \n",
       " 1  82595  ERA12LA131  https://data.ntsb.gov/carol-repgen/api/Aviatio...   \n",
       " 2  82599  ERA12LA132  https://data.ntsb.gov/carol-repgen/api/Aviatio...   \n",
       " 3  82603  ERA12CA134  https://data.ntsb.gov/carol-repgen/api/Aviatio...   \n",
       " 4  82607  CEN12LA120  https://data.ntsb.gov/carol-repgen/api/Aviatio...   \n",
       " \n",
       "    EventDate            City StateOrRegion        Country   Latitude  \\\n",
       " 0 2012-01-01          Eureka    California  United States  40.803333   \n",
       " 1 2012-01-01     Willimantic   Connecticut  United States  41.741664   \n",
       " 2 2012-01-02  Shelter Island      New York  United States  41.066665   \n",
       " 3 2012-01-02     River Ranch       Florida  United States  27.900831   \n",
       " 4 2012-01-01            Lohn         Texas  United States  31.325000   \n",
       " \n",
       "     Longitude  FatalInjuries  SeriousInjuries InjuryLevel  \n",
       " 0 -124.112777            NaN              NaN   Non-Fatal  \n",
       " 1  -72.189720            NaN              NaN   Non-Fatal  \n",
       " 2  -72.343055            NaN              NaN   Non-Fatal  \n",
       " 3  -81.580116            NaN              NaN   Non-Fatal  \n",
       " 4  -99.408332            NaN              2.0   Non-Fatal  )"
      ]
     },
     "execution_count": 1,
     "metadata": {},
     "output_type": "execute_result"
    }
   ],
   "source": [
    "import pandas as pd\n",
    "import matplotlib.pyplot as plt\n",
    "import numpy as np\n",
    "\n",
    "# Load the Excel file\n",
    "file_path = 'GeneralAviationDashboard_Data_20221208_Public.xlsx'\n",
    "sheet_name = 'Accidents'\n",
    "\n",
    "# Read the data from the \"Accidents\" sheet\n",
    "try:\n",
    "    accidents_df = pd.read_excel(file_path, sheet_name=sheet_name)\n",
    "    read_success = True\n",
    "except Exception as e:\n",
    "    read_success = False\n",
    "    error_message = str(e)\n",
    "    \n",
    "read_success, accidents_df.head() if read_success else print(error_message)"
   ]
  },
  {
   "cell_type": "code",
   "execution_count": 2,
   "metadata": {},
   "outputs": [
    {
     "name": "stdout",
     "output_type": "stream",
     "text": [
      "Alaska report links written to alaska_fatal_accident_reports_links.csv\n",
      "Continental US report links written to continental_us_fatal_accident_reports_links.csv\n"
     ]
    }
   ],
   "source": [
    "# Filter for fatal accidents in Alaska\n",
    "fatal_alaska_accidents = accidents_df[\n",
    "    (accidents_df['StateOrRegion'] == 'Alaska') & \n",
    "    (accidents_df['InjuryLevel'] == 'Fatal')\n",
    "]\n",
    "\n",
    "# Extract the report links for Alaska\n",
    "alaska_report_links = fatal_alaska_accidents['Report'].tolist()\n",
    "\n",
    "# Now, filter for fatal accidents in the Continental US (excluding Alaska and Hawaii)\n",
    "fatal_cont_us_accidents = accidents_df[\n",
    "    (accidents_df['Country'] == 'United States') & \n",
    "    (accidents_df['StateOrRegion'] != 'Alaska') & \n",
    "    (accidents_df['StateOrRegion'] != 'Hawaii') & \n",
    "    (accidents_df['InjuryLevel'] == 'Fatal')\n",
    "]\n",
    "\n",
    "# Extract the report links for the Continental US\n",
    "cont_us_report_links = fatal_cont_us_accidents['Report'].tolist()\n",
    "\n",
    "# alaska_report_links, cont_us_report_links\n",
    "\n",
    "# Creating DataFrames for the links\n",
    "alaska_links_df = pd.DataFrame({'Alaska_Fatal_Accident_Links': alaska_report_links})\n",
    "cont_us_links_df = pd.DataFrame({'Continental_US_Fatal_Accident_Links': cont_us_report_links})\n",
    "\n",
    "# Define the file paths for the CSVs\n",
    "alaska_csv_file_path = 'alaska_fatal_accident_reports_links.csv'  # Change as needed\n",
    "cont_us_csv_file_path = 'continental_us_fatal_accident_reports_links.csv'  # Change as needed\n",
    "\n",
    "# Write to separate CSV files\n",
    "alaska_links_df.to_csv(alaska_csv_file_path, index=False)\n",
    "cont_us_links_df.to_csv(cont_us_csv_file_path, index=False)\n",
    "\n",
    "print(f\"Alaska report links written to {alaska_csv_file_path}\")\n",
    "print(f\"Continental US report links written to {cont_us_csv_file_path}\")\n"
   ]
  }
 ],
 "metadata": {
  "kernelspec": {
   "display_name": "Python 3",
   "language": "python",
   "name": "python3"
  },
  "language_info": {
   "codemirror_mode": {
    "name": "ipython",
    "version": 3
   },
   "file_extension": ".py",
   "mimetype": "text/x-python",
   "name": "python",
   "nbconvert_exporter": "python",
   "pygments_lexer": "ipython3",
   "version": "3.10.7"
  }
 },
 "nbformat": 4,
 "nbformat_minor": 2
}
