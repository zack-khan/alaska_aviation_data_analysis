{
 "cells": [
  {
   "cell_type": "code",
   "execution_count": 4,
   "metadata": {},
   "outputs": [],
   "source": [
    "import pandas as pd\n",
    "import matplotlib.pyplot as plt\n",
    "import numpy as np\n",
    "\n",
    "# Load the Excel file\n",
    "file_path = 'GeneralAviationDashboard_Data_20221208_Public.xlsx'\n",
    "sheet_name = 'Accidents'\n",
    "\n",
    "# Read the data from the \"Accidents\" sheet\n",
    "try:\n",
    "    accidents_df = pd.read_excel(file_path, sheet_name=sheet_name)\n",
    "    read_success = True\n",
    "except Exception as e:\n",
    "    read_success = False\n",
    "    error_message = str(e)\n",
    "    \n",
    "read_success, accidents_df.head() if read_success else print(error_message)"
   ]
  },
  {
   "cell_type": "code",
   "execution_count": null,
   "metadata": {},
   "outputs": [],
   "source": [
    "# Filter for fatal accidents in Alaska\n",
    "fatal_alaska_accidents = accidents_df[\n",
    "    (accidents_df['StateOrRegion'] == 'Alaska') & \n",
    "    (accidents_df['InjuryLevel'] == 'Fatal')\n",
    "]\n",
    "\n",
    "# Extract the report links for Alaska\n",
    "alaska_report_links = fatal_alaska_accidents['Report'].tolist()\n",
    "\n",
    "# Now, filter for fatal accidents in the Continental US (excluding Alaska and Hawaii)\n",
    "fatal_cont_us_accidents = accidents_df[\n",
    "    (accidents_df['Country'] == 'United States') & \n",
    "    (accidents_df['StateOrRegion'] != 'Alaska') & \n",
    "    (accidents_df['StateOrRegion'] != 'Hawaii') & \n",
    "    (accidents_df['InjuryLevel'] == 'Fatal')\n",
    "]\n",
    "\n",
    "# Extract the report links for the Continental US\n",
    "cont_us_report_links = fatal_cont_us_accidents['Report'].tolist()\n",
    "\n",
    "# alaska_report_links, cont_us_report_links\n",
    "\n",
    "# Creating DataFrames for the links\n",
    "alaska_links_df = pd.DataFrame({'Alaska_Fatal_Accident_Links': alaska_report_links})\n",
    "cont_us_links_df = pd.DataFrame({'Continental_US_Fatal_Accident_Links': cont_us_report_links})\n",
    "\n",
    "# Define the file paths for the CSVs\n",
    "alaska_csv_file_path = 'alaska_fatal_accident_reports_links.csv'  # Change as needed\n",
    "cont_us_csv_file_path = 'continental_us_fatal_accident_reports_links.csv'  # Change as needed\n",
    "\n",
    "# Write to separate CSV files\n",
    "alaska_links_df.to_csv(alaska_csv_file_path, index=False)\n",
    "cont_us_links_df.to_csv(cont_us_csv_file_path, index=False)\n",
    "\n",
    "print(f\"Alaska report links written to {alaska_csv_file_path}\")\n",
    "print(f\"Continental US report links written to {cont_us_csv_file_path}\")\n"
   ]
  }
 ],
 "metadata": {
  "kernelspec": {
   "display_name": "Python 3",
   "language": "python",
   "name": "python3"
  },
  "language_info": {
   "codemirror_mode": {
    "name": "ipython",
    "version": 3
   },
   "file_extension": ".py",
   "mimetype": "text/x-python",
   "name": "python",
   "nbconvert_exporter": "python",
   "pygments_lexer": "ipython3",
   "version": "3.10.7"
  }
 },
 "nbformat": 4,
 "nbformat_minor": 2
}
